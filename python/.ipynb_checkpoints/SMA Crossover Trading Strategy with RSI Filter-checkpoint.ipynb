{
 "cells": [
  {
   "cell_type": "code",
   "execution_count": null,
   "id": "a7b887e3-842c-474a-baea-9fdcdb2206fa",
   "metadata": {},
   "outputs": [],
   "source": [
    "# Our strategy rules are:\n",
    "\n",
    "# Buy Signal: If the stock's 50-day Simple Moving Average (SMA) crosses above its 200-day SMA, AND its Relative Strength Index (RSI) is below 70 (not overbought).\n",
    "# Sell Signal: If the stock's 50-day SMA crosses below its 200-day SMA, AND its RSI is above 30 (not oversold).\n",
    "# Hold Signal: If neither a buy nor a sell signal is present."
   ]
  },
  {
   "cell_type": "code",
   "execution_count": 10,
   "id": "f4c722cf-6b49-4e7e-aa83-fac05d0edf72",
   "metadata": {},
   "outputs": [],
   "source": [
    "import pandas as pd\n",
    "import numpy as np \n",
    "import yfinance as yf "
   ]
  },
  {
   "cell_type": "code",
   "execution_count": 43,
   "id": "62a951a4-1536-450c-9705-8b2846d94a1c",
   "metadata": {},
   "outputs": [
    {
     "name": "stderr",
     "output_type": "stream",
     "text": [
      "\n",
      "1 Failed download:\n",
      "['AAPL']: JSONDecodeError('Expecting value: line 1 column 1 (char 0)')\n"
     ]
    },
    {
     "name": "stdout",
     "output_type": "stream",
     "text": [
      "⚠️ Could not download data from yfinance. Using dummy data. Error: Downloaded data is empty or not in expected format.\n",
      "📊 Dummy data preview:\n",
      "                 Close\n",
      "2020-01-01   65.883876\n",
      "2020-01-02   96.555322\n",
      "2020-01-03   51.082544\n",
      "2020-01-04   71.895462\n",
      "2020-01-05   73.844515\n",
      "...                ...\n",
      "2025-06-18  100.810536\n",
      "2025-06-19  109.615668\n",
      "2025-06-20   51.267612\n",
      "2025-06-21   91.167746\n",
      "2025-06-22  101.511523\n",
      "\n",
      "[2000 rows x 1 columns]\n"
     ]
    }
   ],
   "source": [
    "\n",
    "# try:\n",
    "#     aapl_data = yf.download('AAPL', start='2020-01-01', end='2025-01-01')\n",
    "#     print(aapl_data)\n",
    "#     # Fix for multi-index columns\n",
    "#     if isinstance(aapl_data.columns, pd.MultiIndex):\n",
    "#         aapl_data = aapl_data['Close']['AAPL'].copy().to_frame()\n",
    "#     else:\n",
    "#         aapl_data = aapl_data[['Close']].copy()\n",
    "\n",
    "#     print(\"AAPL data downloaded successfully!\")\n",
    "#     print(aapl_data.head())\n",
    "\n",
    "# except Exception as e:\n",
    "#     print(f\"Could not download data from yfinance. Using dummy data. Error: {e}\")\n",
    "    \n",
    "#     dates = pd.date_range(start='2020-01-01', periods=2000, freq='D')\n",
    "#     aapl_data = pd.DataFrame({\n",
    "#         'Close': np.random.rand(2000) * 100 + 50\n",
    "#     }, index=dates)\n",
    "\n",
    "#     print(aapl_data.head())\n",
    "\n",
    "import yfinance as yf\n",
    "import pandas as pd\n",
    "import numpy as np\n",
    "\n",
    "try:\n",
    "    # Step 1: Download\n",
    "    aapl_data = yf.download('AAPL', start='2020-01-01', end='2025-01-01', group_by='ticker', progress=False)\n",
    "\n",
    "    # Step 2: Check if it's empty\n",
    "    if aapl_data.empty or 'Close' not in aapl_data.columns.get_level_values(0):\n",
    "        raise ValueError(\"Downloaded data is empty or not in expected format.\")\n",
    "\n",
    "    # Step 3: Fix MultiIndex\n",
    "    if isinstance(aapl_data.columns, pd.MultiIndex):\n",
    "        aapl_data = aapl_data['Close']['AAPL'].copy().to_frame(name='Close')\n",
    "    else:\n",
    "        aapl_data = aapl_data[['Close']].copy()\n",
    "\n",
    "    print(\"✅ AAPL data downloaded successfully!\")\n",
    "    print(aapl_data.head())\n",
    "\n",
    "except Exception as e:\n",
    "    print(f\"⚠️ Could not download data from yfinance. Using dummy data. Error: {e}\")\n",
    "\n",
    "    # Step 4: Dummy data fallback\n",
    "    dates = pd.date_range(start='2020-01-01', periods=2000, freq='D')\n",
    "    aapl_data = pd.DataFrame({\n",
    "        'Close': np.random.rand(2000) * 100 + 50\n",
    "    }, index=dates)\n",
    "\n",
    "    print(\"📊 Dummy data preview:\")\n",
    "    print(aapl_data)\n",
    "\n"
   ]
  },
  {
   "cell_type": "code",
   "execution_count": null,
   "id": "02d5eeea-bf3d-4d3e-892b-3b47c15b6ac3",
   "metadata": {},
   "outputs": [],
   "source": [
    "##  Functions: Calculating SMAs and RSI (Modularizing our code)"
   ]
  },
  {
   "cell_type": "code",
   "execution_count": 45,
   "id": "55a21178-9512-4ab7-9db6-ef2b61837d00",
   "metadata": {},
   "outputs": [],
   "source": [
    "def calculate_sma(data_series, window):\n",
    "    return data_series.rolling(window = window).mean()"
   ]
  },
  {
   "cell_type": "code",
   "execution_count": 47,
   "id": "22333ac5-a20d-4b09-b740-f1cc219f1108",
   "metadata": {},
   "outputs": [],
   "source": [
    "def calculate_rsi(data_series, window = 14):\n",
    "    delta = data_series.diff()\n",
    "    gain = (delta.where(delta>0,0)).rolling(window=window).mean()\n",
    "    loss= (-delta.where(delta<0,0)).rolling(window=window).mean()\n",
    "    rs = gain/loss\n",
    "    rsi = 100-(100/(1+rs))\n",
    "    return rsi"
   ]
  },
  {
   "cell_type": "code",
   "execution_count": 49,
   "id": "83d1c37e-80a7-4758-ae23-e883b83f98d7",
   "metadata": {},
   "outputs": [
    {
     "name": "stdout",
     "output_type": "stream",
     "text": [
      "                 Close      SMA_50     SMA_200        RSI\n",
      "2020-07-18  105.038247  102.145906   99.450361  51.694077\n",
      "2020-07-19   78.963124  100.809696   99.515757  48.083477\n",
      "2020-07-20   63.439660  100.746891   99.350179  44.152097\n",
      "2020-07-21  141.860979  101.231161   99.804071  57.084542\n",
      "2020-07-22  125.889166  101.956726  100.074040  48.695525\n"
     ]
    }
   ],
   "source": [
    "# apply function to our aapl data\n",
    "\n",
    "aapl_data['SMA_50'] = calculate_sma(aapl_data['Close'], 50)\n",
    "aapl_data['SMA_200'] = calculate_sma(aapl_data['Close'], 200)\n",
    "aapl_data['RSI'] = calculate_rsi(aapl_data['Close'], 14)\n",
    "# drop initial NaN values created by rolling window calculations\n",
    "aapl_data.dropna(inplace=True)\n",
    "print(aapl_data.head())"
   ]
  },
  {
   "cell_type": "code",
   "execution_count": null,
   "id": "54c18fa0-8ea6-44cf-bc71-f2e8605dfca0",
   "metadata": {},
   "outputs": [],
   "source": [
    "# Variables and datatype \n",
    "initial_cash: int = 100000\n",
    "shares_held: int  = 0"
   ]
  },
  {
   "cell_type": "code",
   "execution_count": null,
   "id": "92aa1692-8000-4967-9160-0c9961240a45",
   "metadata": {},
   "outputs": [],
   "source": []
  },
  {
   "cell_type": "code",
   "execution_count": null,
   "id": "fb42c39d-34d1-4739-8bd3-ae8177f8d8c1",
   "metadata": {},
   "outputs": [],
   "source": []
  },
  {
   "cell_type": "code",
   "execution_count": null,
   "id": "a6f101b5-6e10-4efa-9952-8c3edfd3bd1d",
   "metadata": {},
   "outputs": [],
   "source": []
  }
 ],
 "metadata": {
  "kernelspec": {
   "display_name": "Python 3 (ipykernel)",
   "language": "python",
   "name": "python3"
  },
  "language_info": {
   "codemirror_mode": {
    "name": "ipython",
    "version": 3
   },
   "file_extension": ".py",
   "mimetype": "text/x-python",
   "name": "python",
   "nbconvert_exporter": "python",
   "pygments_lexer": "ipython3",
   "version": "3.12.3"
  }
 },
 "nbformat": 4,
 "nbformat_minor": 5
}
