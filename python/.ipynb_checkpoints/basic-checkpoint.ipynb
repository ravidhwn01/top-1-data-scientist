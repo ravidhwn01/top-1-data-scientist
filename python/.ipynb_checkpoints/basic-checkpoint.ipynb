{
 "cells": [
  {
   "cell_type": "code",
   "execution_count": 1,
   "id": "f445e6ba",
   "metadata": {},
   "outputs": [
    {
     "data": {
      "text/plain": [
       "'my age is 35'"
      ]
     },
     "execution_count": 1,
     "metadata": {},
     "output_type": "execute_result"
    }
   ],
   "source": [
    "john = \"my age is 35\"\n",
    "john"
   ]
  },
  {
   "cell_type": "code",
   "execution_count": 7,
   "id": "558f0b49",
   "metadata": {},
   "outputs": [
    {
     "data": {
      "text/plain": [
       "\"doesn't\""
      ]
     },
     "execution_count": 7,
     "metadata": {},
     "output_type": "execute_result"
    }
   ],
   "source": [
    "\"doesn't\""
   ]
  },
  {
   "cell_type": "code",
   "execution_count": 8,
   "id": "0ad9b2fa",
   "metadata": {},
   "outputs": [
    {
     "data": {
      "text/plain": [
       "'yes,\"that  said'"
      ]
     },
     "execution_count": 8,
     "metadata": {},
     "output_type": "execute_result"
    }
   ],
   "source": [
    "'yes,\"that  said'"
   ]
  },
  {
   "cell_type": "code",
   "execution_count": 20,
   "id": "1cfe794e",
   "metadata": {},
   "outputs": [
    {
     "name": "stdout",
     "output_type": "stream",
     "text": [
      "a+b =11 1.2 30\n"
     ]
    }
   ],
   "source": [
    "a = 5\n",
    "b = 6\n",
    "print(\"a+b ={0} {1} {2}\".format(a+b,b/a,b*a) )\n"
   ]
  },
  {
   "cell_type": "code",
   "execution_count": 7,
   "id": "45b81fdf",
   "metadata": {},
   "outputs": [
    {
     "data": {
      "text/plain": [
       "(2, 3)"
      ]
     },
     "execution_count": 7,
     "metadata": {},
     "output_type": "execute_result"
    }
   ],
   "source": [
    "import numpy as np\n",
    "a = np.array([[1,2,3],[4,5,6]])\n",
    "a.shape"
   ]
  },
  {
   "cell_type": "code",
   "execution_count": 9,
   "id": "0c600eaa-822b-4c1a-af3d-36912925ef49",
   "metadata": {},
   "outputs": [
    {
     "data": {
      "text/plain": [
       "array([[1, 2, 3],\n",
       "       [4, 5, 6]])"
      ]
     },
     "execution_count": 9,
     "metadata": {},
     "output_type": "execute_result"
    }
   ],
   "source": [
    "a[:3]"
   ]
  },
  {
   "cell_type": "code",
   "execution_count": 11,
   "id": "cc15fc87-9b6d-4a08-b6df-a66c98c74458",
   "metadata": {},
   "outputs": [],
   "source": [
    "a = np.array([1, 2, 3, 4, 5, 6])"
   ]
  },
  {
   "cell_type": "code",
   "execution_count": 17,
   "id": "e9d6e2de-1d3f-4831-8772-7e39de25d9f9",
   "metadata": {},
   "outputs": [
    {
     "data": {
      "text/plain": [
       "array([4, 5, 6])"
      ]
     },
     "execution_count": 17,
     "metadata": {},
     "output_type": "execute_result"
    }
   ],
   "source": [
    "a[3:]"
   ]
  },
  {
   "cell_type": "code",
   "execution_count": 15,
   "id": "d52b1db3-93ed-423f-af45-487cf93a4e6f",
   "metadata": {},
   "outputs": [
    {
     "data": {
      "text/plain": [
       "array([1, 2, 3, 4, 5, 6])"
      ]
     },
     "execution_count": 15,
     "metadata": {},
     "output_type": "execute_result"
    }
   ],
   "source": [
    "a"
   ]
  },
  {
   "cell_type": "code",
   "execution_count": 19,
   "id": "2ed534a6-1a5e-4a0c-8051-55c93c43eb64",
   "metadata": {},
   "outputs": [],
   "source": [
    "a[2] = 90"
   ]
  },
  {
   "cell_type": "code",
   "execution_count": 21,
   "id": "49740a20-9693-46b9-87a5-67d8c86aa82b",
   "metadata": {},
   "outputs": [
    {
     "data": {
      "text/plain": [
       "array([ 1,  2, 90,  4,  5,  6])"
      ]
     },
     "execution_count": 21,
     "metadata": {},
     "output_type": "execute_result"
    }
   ],
   "source": [
    "a"
   ]
  },
  {
   "cell_type": "code",
   "execution_count": 46,
   "id": "18004d90-9a64-4864-86e9-3ef11db7dde9",
   "metadata": {},
   "outputs": [
    {
     "name": "stderr",
     "output_type": "stream",
     "text": [
      "[*********************100%***********************]  1 of 1 completed\n"
     ]
    },
    {
     "name": "stdout",
     "output_type": "stream",
     "text": [
      "AAPL data downloaded successfully!\n",
      "Price           Close\n",
      "Ticker           AAPL\n",
      "Date                 \n",
      "2020-01-02  72.620827\n",
      "2020-01-03  71.914825\n",
      "2020-01-06  72.487869\n",
      "2020-01-07  72.146919\n",
      "2020-01-08  73.307518\n",
      "\n",
      "Data with SMAs and RSI calculated:\n",
      "Price            Close      SMA_50    SMA_200        RSI\n",
      "Ticker            AAPL                                  \n",
      "Date                                                    \n",
      "2020-10-15  117.550018  113.858163  86.063326  63.102300\n",
      "2020-10-16  115.904274  113.961827  86.279743  56.510616\n",
      "2020-10-19  112.943848  114.056628  86.484888  52.833575\n",
      "2020-10-20  114.433792  114.149774  86.694618  52.563340\n",
      "2020-10-21  113.810547  114.295750  86.902936  50.121898\n",
      "\n",
      "--- Initial Portfolio Status (AAPL) ---\n",
      "Strategy: SMA Crossover with RSI Filter\n",
      "Initial Cash: 100000.00 (<class 'float'>)\n",
      "Shares Held: 0 (<class 'int'>)\n",
      "Transaction Cost per Share: 0.01 (<class 'float'>)\n"
     ]
    },
    {
     "name": "stderr",
     "output_type": "stream",
     "text": [
      "C:\\Users\\Ravi\\AppData\\Local\\Temp\\ipykernel_20796\\4205520299.py:109: FutureWarning: Calling int on a single element Series is deprecated and will raise a TypeError in the future. Use int(ser.iloc[0]) instead\n",
      "  max_shares_can_buy = int(current_cash / (current_close + transaction_cost_per_share))\n"
     ]
    },
    {
     "ename": "TypeError",
     "evalue": "unsupported format string passed to Series.__format__",
     "output_type": "error",
     "traceback": [
      "\u001b[1;31m---------------------------------------------------------------------------\u001b[0m",
      "\u001b[1;31mTypeError\u001b[0m                                 Traceback (most recent call last)",
      "Cell \u001b[1;32mIn[46], line 115\u001b[0m\n\u001b[0;32m    113\u001b[0m     shares_held \u001b[38;5;241m+\u001b[39m\u001b[38;5;241m=\u001b[39m shares_to_buy\n\u001b[0;32m    114\u001b[0m     action \u001b[38;5;241m=\u001b[39m \u001b[38;5;124mf\u001b[39m\u001b[38;5;124m\"\u001b[39m\u001b[38;5;124mBUY \u001b[39m\u001b[38;5;132;01m{\u001b[39;00mshares_to_buy\u001b[38;5;132;01m}\u001b[39;00m\u001b[38;5;124m shares\u001b[39m\u001b[38;5;124m\"\u001b[39m\n\u001b[1;32m--> 115\u001b[0m     \u001b[38;5;28mprint\u001b[39m(\u001b[38;5;124mf\u001b[39m\u001b[38;5;124m\"\u001b[39m\u001b[38;5;130;01m\\n\u001b[39;00m\u001b[38;5;132;01m{\u001b[39;00mcurrent_date\u001b[38;5;241m.\u001b[39mstrftime(\u001b[38;5;124m'\u001b[39m\u001b[38;5;124m%\u001b[39m\u001b[38;5;124mY-\u001b[39m\u001b[38;5;124m%\u001b[39m\u001b[38;5;124mm-\u001b[39m\u001b[38;5;132;01m%d\u001b[39;00m\u001b[38;5;124m'\u001b[39m)\u001b[38;5;132;01m}\u001b[39;00m\u001b[38;5;124m: \u001b[39m\u001b[38;5;132;01m{\u001b[39;00maction\u001b[38;5;132;01m}\u001b[39;00m\u001b[38;5;124m (Cash: $\u001b[39m\u001b[38;5;132;43;01m{\u001b[39;49;00m\u001b[43mcurrent_cash\u001b[49m\u001b[38;5;132;43;01m:\u001b[39;49;00m\u001b[38;5;124;43m.2f\u001b[39;49m\u001b[38;5;132;43;01m}\u001b[39;49;00m\u001b[38;5;124m, Shares: \u001b[39m\u001b[38;5;132;01m{\u001b[39;00mshares_held\u001b[38;5;132;01m}\u001b[39;00m\u001b[38;5;124m)\u001b[39m\u001b[38;5;124m\"\u001b[39m)\n\u001b[0;32m    116\u001b[0m \u001b[38;5;28;01melse\u001b[39;00m:\n\u001b[0;32m    117\u001b[0m     action \u001b[38;5;241m=\u001b[39m \u001b[38;5;124m\"\u001b[39m\u001b[38;5;124mHOLD (Insufficient funds to buy)\u001b[39m\u001b[38;5;124m\"\u001b[39m\n",
      "\u001b[1;31mTypeError\u001b[0m: unsupported format string passed to Series.__format__"
     ]
    }
   ],
   "source": [
    "import pandas as pd\n",
    "import numpy as np # For numerical operations, especially NaN handling\n",
    "import yfinance as yf # To download real stock data\n",
    "\n",
    "try:\n",
    "    aapl_data = yf.download('AAPL', start='2020-01-01', end='2024-01-01')\n",
    "    aapl_data = aapl_data[['Close']].copy() # We only need 'Close' for now\n",
    "    print(\"AAPL data downloaded successfully!\")\n",
    "    print(aapl_data.head())\n",
    "except Exception as e:\n",
    "    print(f\"Could not download data from yfinance. Using dummy data. Error: {e}\")\n",
    "    # Fallback to dummy data if yfinance fails (e.g., no internet)\n",
    "    dates = pd.date_range(start='2020-01-01', periods=2000, freq='D')\n",
    "    aapl_data = pd.DataFrame({\n",
    "        'Close': np.random.rand(2000) * 100 + 50 # Random prices\n",
    "    }, index=dates)\n",
    "\n",
    "# --- 1. Functions: Calculating SMAs and RSI (Modularizing our code) ---\n",
    "\n",
    "def calculate_sma(data_series, window):\n",
    "    \"\"\"\n",
    "    Calculates the Simple Moving Average (SMA) for a given data series.\n",
    "    data_series (pd.Series): The input price series (e.g., 'Close' prices).\n",
    "    window (int): The number of periods for the SMA calculation.\n",
    "    Returns (pd.Series): The SMA series.\n",
    "    \"\"\"\n",
    "    return data_series.rolling(window=window).mean()\n",
    "\n",
    "def calculate_rsi(data_series, window=14):\n",
    "    \"\"\"\n",
    "    Calculates the Relative Strength Index (RSI).\n",
    "    data_series (pd.Series): The input price series (e.g., 'Close' prices).\n",
    "    window (int): The number of periods for the RSI calculation.\n",
    "    Returns (pd.Series): The RSI series.\n",
    "    \"\"\"\n",
    "    delta = data_series.diff()\n",
    "    gain = (delta.where(delta > 0, 0)).rolling(window=window).mean()\n",
    "    loss = (-delta.where(delta < 0, 0)).rolling(window=window).mean()\n",
    "\n",
    "    rs = gain / loss\n",
    "    rsi = 100 - (100 / (1 + rs))\n",
    "    return rsi\n",
    "\n",
    "# Apply functions to our AAPL data\n",
    "aapl_data['SMA_50'] = calculate_sma(aapl_data['Close'], 50)\n",
    "aapl_data['SMA_200'] = calculate_sma(aapl_data['Close'], 200)\n",
    "aapl_data['RSI'] = calculate_rsi(aapl_data['Close'], 14)\n",
    "\n",
    "# Drop initial NaN values created by rolling window calculations\n",
    "aapl_data.dropna(inplace=True)\n",
    "print(\"\\nData with SMAs and RSI calculated:\")\n",
    "print(aapl_data.head())\n",
    "\n",
    "# --- 2. Variables and Data Types: Defining our portfolio and strategy parameters ---\n",
    "\n",
    "# Integer (int): Whole numbers\n",
    "initial_cash: int = 100000 # Starting cash balance in USD\n",
    "shares_held: int = 0      # Number of shares currently held\n",
    "\n",
    "# Float (float): Numbers with decimal points\n",
    "transaction_cost_per_share: float = 0.01 # Example: 1 cent per share transaction cost\n",
    "current_cash: float = float(initial_cash) # Cast to float immediately for calculations\n",
    "portfolio_value: float = 0.0 # Initial portfolio value\n",
    "\n",
    "# Boolean (bool): True/False values\n",
    "# These flags will track if a crossover occurred in the *previous* step to detect a *cross*\n",
    "sma_50_above_200_prev: bool = False\n",
    "sma_50_below_200_prev: bool = False\n",
    "\n",
    "# String (str): Text data\n",
    "stock_ticker: str = \"AAPL\"\n",
    "strategy_name: str = \"SMA Crossover with RSI Filter\"\n",
    "\n",
    "print(f\"\\n--- Initial Portfolio Status ({stock_ticker}) ---\")\n",
    "print(f\"Strategy: {strategy_name}\")\n",
    "print(f\"Initial Cash: {current_cash:.2f} ({type(current_cash)})\")\n",
    "print(f\"Shares Held: {shares_held} ({type(shares_held)})\")\n",
    "print(f\"Transaction Cost per Share: {transaction_cost_per_share:.2f} ({type(transaction_cost_per_share)})\")\n",
    "\n",
    "# --- 3. Control Flow: Implementing the trading logic with loops and conditions ---\n",
    "\n",
    "# For loop: Iterate through each row (day) of our historical data\n",
    "for i in range(1, len(aapl_data)): # Start from 1 to compare current day with previous\n",
    "    current_date = aapl_data.index[i]\n",
    "    prev_date = aapl_data.index[i-1]\n",
    "\n",
    "    # Current day's values\n",
    "    current_close = aapl_data['Close'].iloc[i]\n",
    "    current_sma_50 = aapl_data['SMA_50'].iloc[i]\n",
    "    current_sma_200 = aapl_data['SMA_200'].iloc[i]\n",
    "    current_rsi = aapl_data['RSI'].iloc[i]\n",
    "\n",
    "    # Previous day's values (for crossover detection)\n",
    "    prev_sma_50 = aapl_data['SMA_50'].iloc[i-1]\n",
    "    prev_sma_200 = aapl_data['SMA_200'].iloc[i-1]\n",
    "\n",
    "    action: str = \"HOLD\" # Default action for the day\n",
    "\n",
    "    # --- Operators & Conditional Logic (if/elif/else) ---\n",
    "\n",
    "    # Buy Signal Check\n",
    "    # Logical Operators: 'and' (both conditions must be True)\n",
    "    # Comparison Operators: '>', '<=' (for comparing values)\n",
    "    if (prev_sma_50 <= prev_sma_200) and \\\n",
    "       (current_sma_50 > current_sma_200) and \\\n",
    "       (current_rsi < 70): # RSI filter\n",
    "        if current_cash > 0: # Ensure we have cash to buy\n",
    "            # Arithmetic Operators: '*', '/', '-' (for calculations)\n",
    "            max_shares_can_buy = int(current_cash / (current_close + transaction_cost_per_share))\n",
    "            if max_shares_can_buy > 0:\n",
    "                shares_to_buy = max_shares_can_buy # Buy as many as possible\n",
    "                current_cash -= (shares_to_buy * current_close) + (shares_to_buy * transaction_cost_per_share)\n",
    "                shares_held += shares_to_buy\n",
    "                action = f\"BUY {shares_to_buy} shares\"\n",
    "                print(f\"\\n{current_date.strftime('%Y-%m-%d')}: {action} (Cash: ${current_cash:.2f}, Shares: {shares_held})\")\n",
    "            else:\n",
    "                action = \"HOLD (Insufficient funds to buy)\"\n",
    "        else:\n",
    "            action = \"HOLD (No cash)\"\n",
    "\n",
    "    # Sell Signal Check\n",
    "    # Logical Operators: 'and'\n",
    "    # Comparison Operators: '<', '>='\n",
    "    elif (prev_sma_50 >= prev_sma_200) and \\\n",
    "         (current_sma_50 < current_sma_200) and \\\n",
    "         (current_rsi > 30): # RSI filter\n",
    "        if shares_held > 0: # Ensure we have shares to sell\n",
    "            shares_to_sell = shares_held # Sell all held shares\n",
    "            current_cash += (shares_to_sell * current_close) - (shares_to_sell * transaction_cost_per_share)\n",
    "            shares_held -= shares_to_sell\n",
    "            action = f\"SELL {shares_to_sell} shares\"\n",
    "            print(f\"\\n{current_date.strftime('%Y-%m-%d')}: {action} (Cash: ${current_cash:.2f}, Shares: {shares_held})\")\n",
    "        else:\n",
    "            action = \"HOLD (No shares to sell)\"\n",
    "\n",
    "    # Update portfolio value at the end of each day\n",
    "    portfolio_value = current_cash + (shares_held * current_close)\n",
    "\n",
    "    # Optional: Print daily status (too verbose for long runs, but good for debugging)\n",
    "    # if i % 100 == 0: # Print every 100 days\n",
    "    #    print(f\"{current_date.strftime('%Y-%m-%d')}: {action} | SMA_50: {current_sma_50:.2f}, SMA_200: {current_sma_200:.2f}, RSI: {current_rsi:.2f} | Portfolio: ${portfolio_value:.2f}\")\n",
    "\n",
    "# --- 4. Final Portfolio Summary (after the loop completes) ---\n",
    "print(f\"\\n--- Final Portfolio Status ({stock_ticker}) ---\")\n",
    "print(f\"Ending Cash: ${current_cash:.2f}\")\n",
    "print(f\"Shares Held: {shares_held}\")\n",
    "print(f\"Final Share Price: ${aapl_data['Close'].iloc[-1]:.2f}\")\n",
    "final_portfolio_value = current_cash + (shares_held * aapl_data['Close'].iloc[-1])\n",
    "print(f\"Final Portfolio Value: ${final_portfolio_value:.2f}\")\n",
    "print(f\"Initial Portfolio Value: ${initial_cash:.2f}\")\n",
    "\n",
    "# While loop example (less common for daily trading simulation, but can be for real-time)\n",
    "# Imagine a scenario where you're waiting for a specific condition to be met\n",
    "# while current_cash < initial_cash * 0.9: # Loop until cash is at least 90% of initial\n",
    "#     print(\"Simulating market for a bit longer to recover...\")\n",
    "#     # In a real scenario, this would involve fetching new data, running models etc.\n",
    "#     # For this example, we'll just break after a few iterations to avoid infinite loop\n",
    "#     if 'dummy_counter' not in locals():\n",
    "#         dummy_counter = 0\n",
    "#     dummy_counter += 1\n",
    "#     if dummy_counter > 3:\n",
    "#         break\n",
    "#     current_cash += 5000 # Simulate some profit\n",
    "# print(f\"Cash recovered to: ${current_cash:.2f}\")"
   ]
  },
  {
   "cell_type": "code",
   "execution_count": 34,
   "id": "3e2de48a-b0b1-4025-b02b-2dbc9d5ac83e",
   "metadata": {},
   "outputs": [],
   "source": []
  },
  {
   "cell_type": "code",
   "execution_count": null,
   "id": "ddbc09b4-43c6-4c7b-a5d6-894b91b33cfe",
   "metadata": {},
   "outputs": [],
   "source": []
  },
  {
   "cell_type": "code",
   "execution_count": 38,
   "id": "e784e719-7372-41e7-b5ff-59a2268e7a48",
   "metadata": {},
   "outputs": [
    {
     "name": "stdout",
     "output_type": "stream",
     "text": [
      "--- Raw Customer Data ---\n",
      "   CustomerID  Age  MonthlyCharges  TotalCharges        Contract  Gender  \\\n",
      "0         101   25            50.0        1200.0  Month-to-month    Male   \n",
      "1         102   30            75.5        1800.0        Two year  Female   \n",
      "2         103   45            90.0        3500.0  Month-to-month  Female   \n",
      "3         104   50            30.0         800.0        One year    Male   \n",
      "4         105   35            65.0        2500.0        Two year  Female   \n",
      "\n",
      "   Churn  \n",
      "0      0  \n",
      "1      0  \n",
      "2      1  \n",
      "3      0  \n",
      "4      0  \n",
      "\n",
      "Missing values before processing:\n",
      "CustomerID        0\n",
      "Age               0\n",
      "MonthlyCharges    1\n",
      "TotalCharges      1\n",
      "Contract          0\n",
      "Gender            0\n",
      "Churn             0\n",
      "dtype: int64\n",
      "\n",
      "--- Starting Data Preprocessing Workflow ---\n",
      "Filled missing values in 'MonthlyCharges' with median: 65.00\n",
      "Filled missing values in 'TotalCharges' with median: 2000.00\n",
      "No rows dropped due to missing values.\n",
      "Created 'IsSenior' feature.\n",
      "Created 'Tenure' feature.\n",
      "Created 'AvgDailyCharge' feature.\n",
      "Categorized 'Age' into 'AgeGroup'.\n",
      "\n",
      "--- Final Processed Customer Data Summary ---\n",
      "Total Rows: 20\n",
      "Total Columns: 11\n",
      "\n",
      "Column-wise Summary:\n",
      "  - CustomerID (Type: int64):\n",
      "    Mean: 110.50\n",
      "    Std Dev: 5.92\n",
      "    Min: 101.00\n",
      "    Max: 120.00\n",
      "  - Age (Type: int64):\n",
      "    Mean: 41.00\n",
      "    Std Dev: 12.65\n",
      "    Min: 22.00\n",
      "    Max: 65.00\n",
      "  - MonthlyCharges (Type: float64):\n",
      "    Mean: 65.03\n",
      "    Std Dev: 22.51\n",
      "    Min: 25.00\n",
      "    Max: 110.00\n",
      "  - TotalCharges (Type: float64):\n",
      "    Mean: 2260.00\n",
      "    Std Dev: 1181.17\n",
      "    Min: 600.00\n",
      "    Max: 5000.00\n",
      "  - Contract (Type: object):\n",
      "    Unique Values (3): ['Month-to-month' 'Two year' 'One year']...\n",
      "  - Gender (Type: object):\n",
      "    Unique Values (2): ['Male' 'Female']...\n",
      "  - Churn (Type: int64):\n",
      "    Mean: 0.35\n",
      "    Std Dev: 0.49\n",
      "    Min: 0.00\n",
      "    Max: 1.00\n",
      "  - IsSenior (Type: int32):\n",
      "    (No specific summary for type: int32)\n",
      "  - Tenure (Type: int32):\n",
      "    (No specific summary for type: int32)\n",
      "  - AvgDailyCharge (Type: float64):\n",
      "    Mean: 2.17\n",
      "    Std Dev: 0.75\n",
      "    Min: 0.83\n",
      "    Max: 3.67\n",
      "  - AgeGroup (Type: category):\n",
      "    Unique Values (4): ['Young Adult', 'Adult', 'Senior', 'Elderly']\n",
      "Categories (5, object): ['Youth' < 'Young Adult' < 'Adult' < 'Senior' < 'Elderly']...\n",
      "\n",
      "--- Preprocessing Workflow Completed ---\n",
      "\n",
      "Final Processed Data Head:\n",
      "   CustomerID  Age  MonthlyCharges  TotalCharges        Contract  Gender  \\\n",
      "0         101   25            50.0        1200.0  Month-to-month    Male   \n",
      "1         102   30            75.5        1800.0        Two year  Female   \n",
      "2         103   45            90.0        3500.0  Month-to-month  Female   \n",
      "3         104   50            30.0         800.0        One year    Male   \n",
      "4         105   35            65.0        2500.0        Two year  Female   \n",
      "\n",
      "   Churn  IsSenior  Tenure  AvgDailyCharge     AgeGroup  \n",
      "0      0         0      24        1.666667  Young Adult  \n",
      "1      0         0      23        2.516667        Adult  \n",
      "2      1         0      38        3.000000        Adult  \n",
      "3      0         0      26        1.000000       Senior  \n",
      "4      0         0      38        2.166667        Adult  \n",
      "\n",
      "Final Processed Data Info:\n",
      "<class 'pandas.core.frame.DataFrame'>\n",
      "RangeIndex: 20 entries, 0 to 19\n",
      "Data columns (total 11 columns):\n",
      " #   Column          Non-Null Count  Dtype   \n",
      "---  ------          --------------  -----   \n",
      " 0   CustomerID      20 non-null     int64   \n",
      " 1   Age             20 non-null     int64   \n",
      " 2   MonthlyCharges  20 non-null     float64 \n",
      " 3   TotalCharges    20 non-null     float64 \n",
      " 4   Contract        20 non-null     object  \n",
      " 5   Gender          20 non-null     object  \n",
      " 6   Churn           20 non-null     int64   \n",
      " 7   IsSenior        20 non-null     int32   \n",
      " 8   Tenure          20 non-null     int32   \n",
      " 9   AvgDailyCharge  20 non-null     float64 \n",
      " 10  AgeGroup        20 non-null     category\n",
      "dtypes: category(1), float64(3), int32(2), int64(3), object(2)\n",
      "memory usage: 1.8+ KB\n",
      "\n",
      "--- Starting Data Quality Monitoring ---\n",
      "Iteration 1: Data quality is 0.95, above threshold 0.90.\n",
      "Iteration 2: Data quality is 0.93, above threshold 0.90.\n",
      "Iteration 3: Data quality is 0.91, above threshold 0.90.\n",
      "Alert! Data quality dropped to 0.89, below threshold 0.90.\n"
     ]
    },
    {
     "name": "stderr",
     "output_type": "stream",
     "text": [
      "C:\\Users\\Ravi\\AppData\\Local\\Temp\\ipykernel_20796\\396481212.py:42: FutureWarning: A value is trying to be set on a copy of a DataFrame or Series through chained assignment using an inplace method.\n",
      "The behavior will change in pandas 3.0. This inplace method will never work because the intermediate object on which we are setting values always behaves as a copy.\n",
      "\n",
      "For example, when doing 'df[col].method(value, inplace=True)', try using 'df.method({col: value}, inplace=True)' or df[col] = df[col].method(value) instead, to perform the operation inplace on the original object.\n",
      "\n",
      "\n",
      "  processed_df[col].fillna(median_val, inplace=True)\n",
      "C:\\Users\\Ravi\\AppData\\Local\\Temp\\ipykernel_20796\\396481212.py:83: FutureWarning: A value is trying to be set on a copy of a DataFrame or Series through chained assignment using an inplace method.\n",
      "The behavior will change in pandas 3.0. This inplace method will never work because the intermediate object on which we are setting values always behaves as a copy.\n",
      "\n",
      "For example, when doing 'df[col].method(value, inplace=True)', try using 'df.method({col: value}, inplace=True)' or df[col] = df[col].method(value) instead, to perform the operation inplace on the original object.\n",
      "\n",
      "\n",
      "  feature_engineered_df['Tenure'].replace([np.inf, -np.inf], 0, inplace=True)\n"
     ]
    }
   ],
   "source": [
    "import pandas as pd\n",
    "import numpy as np # For NaN values and numerical operations\n",
    "\n",
    "# --- 0. Setup: Create a simulated raw customer dataset ---\n",
    "# In a real application, you would load this from a CSV, database, etc.\n",
    "# For demonstration, we'll create a DataFrame with some typical customer data and missing values.\n",
    "data = {\n",
    "    'CustomerID': range(101, 121),\n",
    "    'Age': [25, 30, 45, 50, 35, 28, 60, 40, 55, 32, 29, 48, 65, 38, 52, 22, 31, 44, 58, 33],\n",
    "    'MonthlyCharges': [50.0, 75.5, 90.0, 30.0, 65.0, np.nan, 110.0, 80.0, 40.0, 70.0, 55.0, 95.0, 25.0, 88.0, 62.0, 48.0, 71.0, 83.0, 38.0, 60.0],\n",
    "    'TotalCharges': [1200.0, 1800.0, 3500.0, 800.0, 2500.0, np.nan, 5000.0, 3000.0, 1500.0, 2100.0, 1600.0, 4000.0, 600.0, 3200.0, 2000.0, 1000.0, 2600.0, 3800.0, 1100.0, 1900.0],\n",
    "    'Contract': ['Month-to-month', 'Two year', 'Month-to-month', 'One year', 'Two year', 'Month-to-month', 'Two year', 'Month-to-month', 'One year', 'Month-to-month', 'Month-to-month', 'Two year', 'Month-to-month', 'One year', 'Two year', 'Month-to-month', 'One year', 'Month-to-month', 'Two year', 'Month-to-month'],\n",
    "    'Gender': ['Male', 'Female', 'Female', 'Male', 'Female', 'Male', 'Female', 'Male', 'Female', 'Male', 'Female', 'Male', 'Female', 'Male', 'Female', 'Male', 'Female', 'Male', 'Female', 'Male'],\n",
    "    'Churn': [0, 0, 1, 0, 0, 1, 0, 1, 0, 0, 1, 0, 1, 0, 0, 1, 0, 1, 0, 0] # 0 = No Churn, 1 = Churn\n",
    "}\n",
    "raw_customer_df = pd.DataFrame(data)\n",
    "\n",
    "print(\"--- Raw Customer Data ---\")\n",
    "print(raw_customer_df.head())\n",
    "print(\"\\nMissing values before processing:\")\n",
    "print(raw_customer_df.isnull().sum())\n",
    "\n",
    "# --- 1. Functions: Modularizing our preprocessing steps ---\n",
    "\n",
    "def handle_missing_values(df: pd.DataFrame) -> pd.DataFrame:\n",
    "    \"\"\"\n",
    "    Handles missing values in specified columns of the DataFrame.\n",
    "    - Fills 'MonthlyCharges' and 'TotalCharges' with their respective medians.\n",
    "    - Drops rows where 'Contract' is missing (if any, though not in this example).\n",
    "    \"\"\"\n",
    "    # Variables: df (DataFrame), column names (strings), median values (floats)\n",
    "    # Operators: .median() for aggregation\n",
    "    # Control Flow: if/else for checking column existence (good practice)\n",
    "\n",
    "    processed_df = df.copy() # Create a copy to avoid modifying the original DataFrame\n",
    "\n",
    "    # Fill numerical missing values with median\n",
    "    numerical_cols_to_fill: list[str] = ['MonthlyCharges', 'TotalCharges'] # Variables: list of strings\n",
    "    for col in numerical_cols_to_fill: # Control Flow: for loop\n",
    "        if col in processed_df.columns: # Control Flow: if condition\n",
    "            median_val: float = processed_df[col].median() # Variables: float\n",
    "            processed_df[col].fillna(median_val, inplace=True)\n",
    "            print(f\"Filled missing values in '{col}' with median: {median_val:.2f}\")\n",
    "        else: # Control Flow: else branch\n",
    "            print(f\"Warning: Column '{col}' not found for filling missing values.\")\n",
    "\n",
    "    # Drop rows with any remaining missing values (e.g., if 'Contract' had NaNs)\n",
    "    initial_rows: int = len(processed_df) # Variables: int\n",
    "    processed_df.dropna(inplace=True)\n",
    "    rows_dropped: int = initial_rows - len(processed_df) # Operators: arithmetic '-'\n",
    "    if rows_dropped > 0: # Control Flow: if condition\n",
    "        print(f\"Dropped {rows_dropped} rows due to remaining missing values.\")\n",
    "    else:\n",
    "        print(\"No rows dropped due to missing values.\")\n",
    "\n",
    "    return processed_df\n",
    "\n",
    "def engineer_features(df: pd.DataFrame) -> pd.DataFrame:\n",
    "    \"\"\"\n",
    "    Creates new, more informative features from existing ones.\n",
    "    - 'Tenure': Calculated from 'TotalCharges' and 'MonthlyCharges'.\n",
    "    - 'AvgDailyCharge': Average daily charge.\n",
    "    - 'IsSenior': Binary flag for customers aged 60 or above.\n",
    "    \"\"\"\n",
    "    # Variables: df (DataFrame), new column names (strings), calculated values (floats/ints/booleans)\n",
    "    # Operators: arithmetic operators, comparison operators\n",
    "    # Control Flow: if/else for conditional feature creation\n",
    "\n",
    "    feature_engineered_df = df.copy()\n",
    "\n",
    "    # Variable: boolean (True/False)\n",
    "    # Operator: comparison (>)\n",
    "    # Control Flow: if/else (implicit in pandas .apply() or direct boolean indexing)\n",
    "    feature_engineered_df['IsSenior'] = (feature_engineered_df['Age'] >= 60).astype(int) # Data Type: int (0 or 1)\n",
    "    print(\"Created 'IsSenior' feature.\")\n",
    "\n",
    "    # Using try-except for robust calculation, in case of division by zero or other issues\n",
    "    try: # Control Flow: try-except block for error handling\n",
    "        # Variables: float (result of division)\n",
    "        # Operators: division (/)\n",
    "        feature_engineered_df['Tenure'] = feature_engineered_df['TotalCharges'] / feature_engineered_df['MonthlyCharges']\n",
    "        # Replace infinite values (from division by zero if MonthlyCharges was 0) with 0 or a sensible value\n",
    "        feature_engineered_df['Tenure'].replace([np.inf, -np.inf], 0, inplace=True)\n",
    "        # Convert Tenure to integer for simplicity, as it represents months\n",
    "        feature_engineered_df['Tenure'] = feature_engineered_df['Tenure'].astype(int)\n",
    "        print(\"Created 'Tenure' feature.\")\n",
    "    except ZeroDivisionError: # Specific exception handling\n",
    "        print(\"Warning: Division by zero encountered when calculating 'Tenure'. Setting to 0.\")\n",
    "        feature_engineered_df['Tenure'] = 0\n",
    "    except Exception as e: # General exception handling\n",
    "        print(f\"An unexpected error occurred during 'Tenure' calculation: {e}\")\n",
    "        feature_engineered_df['Tenure'] = 0 # Default to 0 on error\n",
    "\n",
    "    # Variable: float (result of division)\n",
    "    # Operators: division (/)\n",
    "    feature_engineered_df['AvgDailyCharge'] = feature_engineered_df['MonthlyCharges'] / 30.0 # Assuming 30 days in a month\n",
    "    print(\"Created 'AvgDailyCharge' feature.\")\n",
    "\n",
    "    return feature_engineered_df\n",
    "\n",
    "def categorize_age(df: pd.DataFrame) -> pd.DataFrame:\n",
    "    \"\"\"\n",
    "    Categorizes 'Age' into age groups.\n",
    "    \"\"\"\n",
    "    # Variables: df (DataFrame), bins (list of ints/floats), labels (list of strings)\n",
    "    # Data Types: list of ints, list of strings\n",
    "    # Control Flow: implicit in pd.cut()\n",
    "    age_bins: list[int] = [0, 18, 30, 50, 65, 100] # Variables: list (int)\n",
    "    age_labels: list[str] = ['Youth', 'Young Adult', 'Adult', 'Senior', 'Elderly'] # Variables: list (str)\n",
    "    \n",
    "    # Check if 'Age' column exists before categorizing\n",
    "    if 'Age' in df.columns: # Control Flow: if condition\n",
    "        df['AgeGroup'] = pd.cut(df['Age'], bins=age_bins, labels=age_labels, right=False)\n",
    "        print(\"Categorized 'Age' into 'AgeGroup'.\")\n",
    "    else:\n",
    "        print(\"Warning: 'Age' column not found for categorization.\")\n",
    "    \n",
    "    return df\n",
    "\n",
    "def generate_summary_report(df: pd.DataFrame, report_title: str) -> None:\n",
    "    \"\"\"\n",
    "    Prints a summary report of the DataFrame.\n",
    "    \"\"\"\n",
    "    # Variables: df (DataFrame), report_title (string)\n",
    "    # Operators: len(), .mean(), .std(), .min(), .max(), .unique()\n",
    "    # Control Flow: for loop for columns, if/else for data type specific summaries\n",
    "\n",
    "    print(f\"\\n--- {report_title} ---\")\n",
    "    print(f\"Total Rows: {len(df)}\") # Operators: len()\n",
    "    print(f\"Total Columns: {len(df.columns)}\")\n",
    "\n",
    "    print(\"\\nColumn-wise Summary:\")\n",
    "    for col in df.columns: # Control Flow: for loop\n",
    "        # Variables: col (string), dtype (string)\n",
    "        dtype: str = str(df[col].dtype) # Data Type: str\n",
    "        print(f\"  - {col} (Type: {dtype}):\")\n",
    "\n",
    "        # Control Flow: if/elif/else for different data types\n",
    "        if dtype in ['int64', 'float64']:\n",
    "            # Operators: .mean(), .std(), .min(), .max()\n",
    "            print(f\"    Mean: {df[col].mean():.2f}\")\n",
    "            print(f\"    Std Dev: {df[col].std():.2f}\")\n",
    "            print(f\"    Min: {df[col].min():.2f}\")\n",
    "            print(f\"    Max: {df[col].max():.2f}\")\n",
    "        elif dtype == 'object' or dtype == 'category': # 'object' for strings, 'category' for pandas category type\n",
    "            # Operators: .unique(), len()\n",
    "            unique_values: np.ndarray = df[col].unique() # Variables: numpy array\n",
    "            print(f\"    Unique Values ({len(unique_values)}): {unique_values[:5]}...\") # Show first 5 unique\n",
    "        else:\n",
    "            print(f\"    (No specific summary for type: {dtype})\")\n",
    "\n",
    "# --- Main Workflow: Orchestrating the preprocessing steps ---\n",
    "\n",
    "print(\"\\n--- Starting Data Preprocessing Workflow ---\")\n",
    "\n",
    "# Step 1: Handle Missing Values (using a function)\n",
    "processed_customer_df = handle_missing_values(raw_customer_df)\n",
    "\n",
    "# Step 2: Engineer New Features (using a function)\n",
    "feature_engineered_customer_df = engineer_features(processed_customer_df)\n",
    "\n",
    "# Step 3: Categorize Age (using a function)\n",
    "final_customer_df = categorize_age(feature_engineered_customer_df)\n",
    "\n",
    "# Step 4: Generate Final Report (using a function)\n",
    "generate_summary_report(final_customer_df, \"Final Processed Customer Data Summary\")\n",
    "\n",
    "print(\"\\n--- Preprocessing Workflow Completed ---\")\n",
    "print(\"\\nFinal Processed Data Head:\")\n",
    "print(final_customer_df.head())\n",
    "print(\"\\nFinal Processed Data Info:\")\n",
    "final_customer_df.info()\n",
    "\n",
    "# --- While Loop Example (less common for batch processing, but for real-time monitoring) ---\n",
    "# Imagine you're monitoring a data quality score and need to alert if it drops below a threshold.\n",
    "data_quality_score: float = 0.95 # Initial score\n",
    "threshold: float = 0.90 # Variables: float\n",
    "monitoring_iterations: int = 0 # Variables: int\n",
    "\n",
    "print(\"\\n--- Starting Data Quality Monitoring ---\")\n",
    "# Control Flow: while loop\n",
    "while data_quality_score > threshold and monitoring_iterations < 3: # Logical Operator: and, Comparison Operators: >, <\n",
    "    print(f\"Iteration {monitoring_iterations + 1}: Data quality is {data_quality_score:.2f}, above threshold {threshold:.2f}.\")\n",
    "    # Simulate a slight drop in quality over time\n",
    "    data_quality_score -= 0.02 # Arithmetic Operator: -=\n",
    "    monitoring_iterations += 1 # Arithmetic Operator: +=\n",
    "    # In a real app, this would involve re-evaluating data quality from new incoming data\n",
    "\n",
    "if data_quality_score <= threshold: # Control Flow: if condition\n",
    "    print(f\"Alert! Data quality dropped to {data_quality_score:.2f}, below threshold {threshold:.2f}.\")\n",
    "else: # Control Flow: else branch\n",
    "    print(f\"Data quality remains acceptable after {monitoring_iterations} iterations.\")"
   ]
  },
  {
   "cell_type": "code",
   "execution_count": null,
   "id": "4ec6bbdf-0f64-42d1-89cb-445770b49b1d",
   "metadata": {},
   "outputs": [],
   "source": []
  },
  {
   "cell_type": "code",
   "execution_count": null,
   "id": "bb6a4d1a-13d0-4d2f-82c4-2159592ea2bc",
   "metadata": {},
   "outputs": [],
   "source": []
  },
  {
   "cell_type": "code",
   "execution_count": null,
   "id": "7c782bda-ae90-4821-b5f8-4ecaa1be2d81",
   "metadata": {},
   "outputs": [],
   "source": []
  },
  {
   "cell_type": "code",
   "execution_count": null,
   "id": "9bd08221-846f-406e-9ca1-1e31e812b44a",
   "metadata": {},
   "outputs": [],
   "source": []
  },
  {
   "cell_type": "code",
   "execution_count": null,
   "id": "d06d7afd-c383-4eeb-a0da-18e0b7daffeb",
   "metadata": {},
   "outputs": [],
   "source": []
  },
  {
   "cell_type": "code",
   "execution_count": null,
   "id": "867e9e98-765a-47b5-a5f2-eced2870c3f6",
   "metadata": {},
   "outputs": [],
   "source": []
  },
  {
   "cell_type": "code",
   "execution_count": null,
   "id": "8671cdb2-0094-4a0d-b82e-542e8aa4e4ce",
   "metadata": {},
   "outputs": [],
   "source": []
  },
  {
   "cell_type": "code",
   "execution_count": null,
   "id": "0463ebb7-16d2-49c0-bd36-c748f6f533dc",
   "metadata": {},
   "outputs": [],
   "source": []
  },
  {
   "cell_type": "code",
   "execution_count": null,
   "id": "84cb121b-c1d1-471c-8af3-4814d7062c8f",
   "metadata": {},
   "outputs": [],
   "source": []
  }
 ],
 "metadata": {
  "kernelspec": {
   "display_name": "Python 3 (ipykernel)",
   "language": "python",
   "name": "python3"
  },
  "language_info": {
   "codemirror_mode": {
    "name": "ipython",
    "version": 3
   },
   "file_extension": ".py",
   "mimetype": "text/x-python",
   "name": "python",
   "nbconvert_exporter": "python",
   "pygments_lexer": "ipython3",
   "version": "3.12.3"
  }
 },
 "nbformat": 4,
 "nbformat_minor": 5
}
