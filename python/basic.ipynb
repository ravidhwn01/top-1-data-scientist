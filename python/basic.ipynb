{
 "cells": [
  {
   "cell_type": "code",
   "execution_count": 1,
   "id": "f445e6ba",
   "metadata": {},
   "outputs": [
    {
     "data": {
      "text/plain": [
       "'my age is 35'"
      ]
     },
     "execution_count": 1,
     "metadata": {},
     "output_type": "execute_result"
    }
   ],
   "source": [
    "john = \"my age is 35\"\n",
    "john"
   ]
  },
  {
   "cell_type": "code",
   "execution_count": 7,
   "id": "558f0b49",
   "metadata": {},
   "outputs": [
    {
     "data": {
      "text/plain": [
       "\"doesn't\""
      ]
     },
     "execution_count": 7,
     "metadata": {},
     "output_type": "execute_result"
    }
   ],
   "source": [
    "\"doesn't\""
   ]
  },
  {
   "cell_type": "code",
   "execution_count": 8,
   "id": "0ad9b2fa",
   "metadata": {},
   "outputs": [
    {
     "data": {
      "text/plain": [
       "'yes,\"that  said'"
      ]
     },
     "execution_count": 8,
     "metadata": {},
     "output_type": "execute_result"
    }
   ],
   "source": [
    "'yes,\"that  said'"
   ]
  },
  {
   "cell_type": "code",
   "execution_count": 20,
   "id": "1cfe794e",
   "metadata": {},
   "outputs": [
    {
     "name": "stdout",
     "output_type": "stream",
     "text": [
      "a+b =11 1.2 30\n"
     ]
    }
   ],
   "source": [
    "a = 5\n",
    "b = 6\n",
    "print(\"a+b ={0} {1} {2}\".format(a+b,b/a,b*a) )\n"
   ]
  },
  {
   "cell_type": "code",
   "execution_count": null,
   "id": "45b81fdf",
   "metadata": {},
   "outputs": [],
   "source": []
  }
 ],
 "metadata": {
  "kernelspec": {
   "display_name": "base",
   "language": "python",
   "name": "python3"
  },
  "language_info": {
   "codemirror_mode": {
    "name": "ipython",
    "version": 3
   },
   "file_extension": ".py",
   "mimetype": "text/x-python",
   "name": "python",
   "nbconvert_exporter": "python",
   "pygments_lexer": "ipython3",
   "version": "3.12.3"
  }
 },
 "nbformat": 4,
 "nbformat_minor": 5
}
