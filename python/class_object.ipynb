{
 "cells": [
  {
   "cell_type": "code",
   "execution_count": 1,
   "id": "216dc423",
   "metadata": {},
   "outputs": [
    {
     "name": "stdout",
     "output_type": "stream",
     "text": [
      "hee\n"
     ]
    }
   ],
   "source": [
    "print(\"hee\")"
   ]
  },
  {
   "cell_type": "code",
   "execution_count": 2,
   "id": "4992b20e",
   "metadata": {},
   "outputs": [
    {
     "ename": "AttributeError",
     "evalue": "'list' object has no attribute 'upper'",
     "output_type": "error",
     "traceback": [
      "\u001b[1;31m---------------------------------------------------------------------------\u001b[0m",
      "\u001b[1;31mAttributeError\u001b[0m                            Traceback (most recent call last)",
      "Cell \u001b[1;32mIn[2], line 2\u001b[0m\n\u001b[0;32m      1\u001b[0m L \u001b[38;5;241m=\u001b[39m [\u001b[38;5;241m1\u001b[39m, \u001b[38;5;241m2\u001b[39m, \u001b[38;5;241m3\u001b[39m, \u001b[38;5;241m4\u001b[39m, \u001b[38;5;241m5\u001b[39m]\n\u001b[1;32m----> 2\u001b[0m \u001b[43mL\u001b[49m\u001b[38;5;241;43m.\u001b[39;49m\u001b[43mupper\u001b[49m()  \u001b[38;5;66;03m# This will raise an AttributeError because lists do not have an upper method\u001b[39;00m\n",
      "\u001b[1;31mAttributeError\u001b[0m: 'list' object has no attribute 'upper'"
     ]
    }
   ],
   "source": [
    "L = [1, 2, 3, 4, 5]\n",
    "L.upper()  # This will raise an AttributeError because lists do not have an upper method"
   ]
  },
  {
   "cell_type": "code",
   "execution_count": 4,
   "id": "53646a88",
   "metadata": {},
   "outputs": [
    {
     "data": {
      "text/plain": [
       "'HELLO'"
      ]
     },
     "execution_count": 4,
     "metadata": {},
     "output_type": "execute_result"
    }
   ],
   "source": [
    "s = \"hello\"\n",
    "s.upper()  # This will convert the string to uppercase\n",
    "# s.append(\"world\")  # This will raise an AttributeError because strings do not have an append method"
   ]
  },
  {
   "cell_type": "code",
   "execution_count": null,
   "id": "16ac9af7",
   "metadata": {},
   "outputs": [],
   "source": [
    "# generality to specificity\n",
    "# class is a general concept, object is a specific instance of that class\n",
    "# class is like a blueprint, object is like a house built from that blueprint, object follows the class structure or rules\n",
    "# class Animal:\n",
    "#     def __init__(self, name):\n",
    "#         self.name = name\n",
    "\n",
    "#     def speak(self):\n",
    "#         return \"Some sound\"\n"
   ]
  },
  {
   "cell_type": "code",
   "execution_count": 9,
   "id": "b629c36f",
   "metadata": {},
   "outputs": [],
   "source": [
    "class Dog():\n",
    "    def speak(self):\n",
    "        return \"Woof! Woof!\"\n",
    "    \n",
    "    \n",
    "class Cat():\n",
    "    def speak(self):\n",
    "        return \"Meow! Meow!\""
   ]
  },
  {
   "cell_type": "code",
   "execution_count": null,
   "id": "29e2f910",
   "metadata": {},
   "outputs": [
    {
     "name": "stdout",
     "output_type": "stream",
     "text": [
      "Woof! Woof!\n",
      "Meow! Meow!\n"
     ]
    }
   ],
   "source": [
    "# we don't get output from a class until we create an object of that class\n",
    "\n",
    "print(Dog().speak())  # Output: Woof! Woof!\n",
    "print(Cat().speak())  # Output: Meow! Me"
   ]
  },
  {
   "cell_type": "code",
   "execution_count": 12,
   "id": "7a3b4e43",
   "metadata": {},
   "outputs": [],
   "source": [
    "#methods are functions defined inside a class, they are used to define the behavior of the objects created from that class\n",
    "class Person:\n",
    "    def __init__(self, name, age):\n",
    "        self.name = name\n",
    "        self.age = age\n",
    "\n",
    "    def greet(self):\n",
    "        return f\"Hello, my name is {self.name} and I am {self.age} years old.\"\n",
    "    \n",
    "# Creating an object of the Person class\n",
    "person1 = Person(\"Alice\", 30)"
   ]
  },
  {
   "cell_type": "code",
   "execution_count": 13,
   "id": "4b0efbd2",
   "metadata": {},
   "outputs": [
    {
     "name": "stdout",
     "output_type": "stream",
     "text": [
      "Hello, my name is Alice and I am 30 years old.\n"
     ]
    }
   ],
   "source": [
    "print(person1.greet())  # Output: Hello, my name is Alice and I am 30 years old."
   ]
  },
  {
   "cell_type": "code",
   "execution_count": null,
   "id": "14ba446c",
   "metadata": {},
   "outputs": [],
   "source": []
  }
 ],
 "metadata": {
  "kernelspec": {
   "display_name": "base",
   "language": "python",
   "name": "python3"
  },
  "language_info": {
   "codemirror_mode": {
    "name": "ipython",
    "version": 3
   },
   "file_extension": ".py",
   "mimetype": "text/x-python",
   "name": "python",
   "nbconvert_exporter": "python",
   "pygments_lexer": "ipython3",
   "version": "3.12.3"
  }
 },
 "nbformat": 4,
 "nbformat_minor": 5
}
